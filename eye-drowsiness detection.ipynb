{
 "cells": [
  {
   "cell_type": "code",
   "execution_count": null,
   "metadata": {},
   "outputs": [
    {
     "name": "stdout",
     "output_type": "stream",
     "text": [
      "Enter the id and name of person:\n"
     ]
    }
   ],
   "source": [
    "import cv2\n",
    "from pathlib import Path\n",
    "\n",
    "detector=cv2.CascadeClassifier('C:/Users/admin/Desktop/filesdata/haarcascade_frontalface_default.xml')\n",
    "cam = cv2.VideoCapture(0)\n",
    "print(\"Enter the id and name of person:\")\n",
    "userId= input()\n",
    "username= input()\n",
    "count=1\n",
    "def saveImage(img,username,userId,imgId):\n",
    "    Path(\"dataset/{}\".format(username)).mkdir(parentsTrue,exist_ok=True)\n",
    "    cv2.imwrite(\"dataset/{}/{}_{}.jpg\".format(username,userId,imgId),img)\n",
    "while True:\n",
    "    _, img=cam.read()\n",
    "    orignalimg=img\n",
    "    grayImg = cv2.cvtColor(img,cv2.COLOR_BGR2GRAY)\n",
    "    faces = detector.detectMultiScale(grayImg,1.3, 5)\n",
    "    for (x,y,w,h) in faces:\n",
    "        cv2.rectangle(img,(x,y),(x+w,y+h),(255,0,0),2)\n",
    "    cv2.imshow('Face',img)\n",
    "    key= cv2.waitKey(1) & 0xFF\n",
    "    if key== ord('s'):\n",
    "        if count<=5:\n",
    "            saveImage(orignalimg,username,userId,count)\n",
    "            count +=1\n",
    "    elif key== ord('q'):\n",
    "        break\n",
    "cam.release()\n",
    "cv2.destroyAllWindows()"
   ]
  },
  {
   "cell_type": "code",
   "execution_count": null,
   "metadata": {},
   "outputs": [],
   "source": []
  }
 ],
 "metadata": {
  "kernelspec": {
   "display_name": "Python 3",
   "language": "python",
   "name": "python3"
  },
  "language_info": {
   "codemirror_mode": {
    "name": "ipython",
    "version": 3
   },
   "file_extension": ".py",
   "mimetype": "text/x-python",
   "name": "python",
   "nbconvert_exporter": "python",
   "pygments_lexer": "ipython3",
   "version": "3.8.3"
  }
 },
 "nbformat": 4,
 "nbformat_minor": 4
}
